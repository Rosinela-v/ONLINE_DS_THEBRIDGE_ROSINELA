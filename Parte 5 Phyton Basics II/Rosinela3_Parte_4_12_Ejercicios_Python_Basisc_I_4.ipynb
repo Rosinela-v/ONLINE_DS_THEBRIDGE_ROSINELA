{
  "cells": [
    {
      "cell_type": "markdown",
      "metadata": {
        "id": "O_SmrIN6FaTz"
      },
      "source": [
        "![TheBridge_logo_RGB_color.jpg](attachment:TheBridge_logo_RGB_color.jpg)"
      ]
    },
    {
      "cell_type": "markdown",
      "metadata": {
        "id": "0RPEfghrFaT3"
      },
      "source": [
        "![imagen](./img/ejercicios.png)"
      ]
    },
    {
      "cell_type": "markdown",
      "metadata": {
        "id": "IIxfuGqqFaT3"
      },
      "source": [
        "## EJERCICIOS PYTHON BASICO 4:\n",
        "## Funciones, métodos, listas"
      ]
    },
    {
      "cell_type": "markdown",
      "metadata": {
        "id": "JdUORyqeFaT4"
      },
      "source": [
        "Completa los siguiente ejercicios, la solución completa a los mismos se publicarán en el repo del curso a lo largo del sprint. En algunos ejercicios se muestra la solución final, para que puedas comprobar que lo has hecho bien, pero lo importante es el código que generes. ¡Vaaamos, a ello...!"
      ]
    },
    {
      "cell_type": "markdown",
      "metadata": {
        "id": "j6ippY90FaT4"
      },
      "source": [
        "![ejercicio.png](./img/ejercicio.png)\n",
        "\n",
        "## Ejercicio 1\n",
        "Para este ejercicio vamos a poner en práctica [las funciones built in](https://docs.python.org/3/library/functions.html).\n",
        "\n",
        "1. Calcula el máximo de la lista: [4, 6, 8, -1]\n",
        "2. Suma todos los elementos de la lista anterior\n",
        "3. Redondea este float a 3 dígitos decimales: 63.451256965\n",
        "4. Valor absoluto de: -74"
      ]
    },
    {
      "cell_type": "code",
      "execution_count": 1,
      "metadata": {
        "id": "c1tSe4cmFaT4"
      },
      "outputs": [
        {
          "name": "stdout",
          "output_type": "stream",
          "text": [
            "Máximo de la lista: 8\n",
            "Suma de la lista: 17\n",
            "Número redondeado a 3 decimales: 63.451\n",
            "Valor absoluto de -74: 74\n"
          ]
        }
      ],
      "source": [
        "# 1 Maximo de lista\n",
        "numeros = [4, 6, 8, -1]\n",
        "\n",
        "print(\"Máximo de la lista:\", max(numeros))\n",
        "\n",
        "# 2 suma de los elementos\n",
        "print(\"Suma de la lista:\", sum(numeros))\n",
        "\n",
        "# 3 Redondeo de un número a 3 decimales\n",
        "numero = 63.451256965\n",
        "print(\"Número redondeado a 3 decimales:\", round(numero, 3))\n",
        "\n",
        "# 4 Valor absoluto\n",
        "print(\"Valor absoluto de -74:\", abs(-74))"
      ]
    },
    {
      "cell_type": "markdown",
      "metadata": {
        "id": "yYyQdXgZFaT4"
      },
      "source": [
        "![ejercicio.png](./img/ejercicio.png)\n",
        "\n",
        "## Ejercicio 2\n",
        "Para el siguiente string se pide imprimir por pantalla los siguientes casos\n",
        "\n",
        "    \"En un lugar de la Mancha, de cuyo nombre no quiero acordarme.\"\n",
        "\n",
        "1. Pásalo todo a mayúsculas\n",
        "2. Pásalo todo a minúsculas\n",
        "3. Solo la primera letra de cada palabra en mayúscula, el resto en minúscula\n",
        "4. Crea una lista dividiéndolo por sus espacios\n",
        "5. Sustituye las comas `,` por puntos y comas `;`\n",
        "6. Elimina las `a` minúsculas"
      ]
    },
    {
      "cell_type": "code",
      "execution_count": 2,
      "metadata": {
        "id": "1r3MY8JWFaT5",
        "outputId": "e236417a-9681-4abe-9fd1-618f0f30356f"
      },
      "outputs": [
        {
          "name": "stdout",
          "output_type": "stream",
          "text": [
            "Mayúsculas: EN UN LUGAR DE LA MANCHA, DE CUYO NOMBRE NO QUIERO ACORDARME.\n",
            "Minúsculas: en un lugar de la mancha, de cuyo nombre no quiero acordarme.\n",
            "Capitalizado: En Un Lugar De La Mancha, De Cuyo Nombre No Quiero Acordarme.\n",
            "Lista dividida por espacios: ['En', 'un', 'lugar', 'de', 'la', 'Mancha,', 'de', 'cuyo', 'nombre', 'no', 'quiero', 'acordarme.']\n",
            "Comas sustituidas: En un lugar de la Mancha; de cuyo nombre no quiero acordarme.\n",
            "Sin 'a': En un lugr de l Mnch, de cuyo nombre no quiero cordrme.\n"
          ]
        }
      ],
      "source": [
        "texto = \"En un lugar de la Mancha, de cuyo nombre no quiero acordarme.\"\n",
        "\n",
        "# 1 Mayúsculas\n",
        "print(\"Mayúsculas:\", texto.upper())\n",
        "\n",
        "# 2 Minúsculas\n",
        "print(\"Minúsculas:\", texto.lower())\n",
        "\n",
        "# 3 Primera letra de cada palabra en mayúscula\n",
        "print(\"Capitalizado:\", texto.title())\n",
        "\n",
        "# 4 Lista separada por espacios\n",
        "print(\"Lista dividida por espacios:\", texto.split(\" \"))\n",
        "\n",
        "# 5 Sustituir comas por puntos y comas\n",
        "print(\"Comas sustituidas:\", texto.replace(\",\", \";\"))\n",
        "\n",
        "# 6 Eliminar 'a' minúsculas\n",
        "print(\"Sin 'a':\", texto.replace(\"a\", \"\"))"
      ]
    },
    {
      "cell_type": "markdown",
      "metadata": {
        "id": "SDxRXMIdFaT5"
      },
      "source": [
        "![ejercicio.png](./img/ejercicio.png)\n",
        "\n",
        "## Ejercicio 3\n",
        "1. Crea una lista con 3 elementos numéricos\n",
        "2. Añade un cuarto elemento\n",
        "3. Calcula la suma de todos\n",
        "4. Elimina el segundo elemento de la lista\n",
        "5. Añade otro elemento en la posicion 3 de la lista\n",
        "6. Crea otra lista con 4 elementos y concaténala a la que ya tenías.\n",
        "7. Ordena la lista de menor a mayor.\n",
        "8. BONUS: Ordena la lista de mayor a menor.  \n",
        "(*PISTA: Para hacer 8, tendrás que buscar en la información del método...*)  \n",
        "  \n",
        "  \n",
        "NOTA: Pinta por pantalla el resultado de cada paso."
      ]
    },
    {
      "cell_type": "code",
      "execution_count": 4,
      "metadata": {
        "id": "4jOHGP3SFaT5",
        "outputId": "e0835d2f-a246-405d-cd87-b34e5ecabe46"
      },
      "outputs": [
        {
          "name": "stdout",
          "output_type": "stream",
          "text": [
            "Paso 1: [1, 2, 3]\n",
            "Paso 2: [1, 2, 3, 4]\n",
            "Paso 3: 10\n",
            "Paso 4: [1, 3, 4]\n",
            "Paso 5: [1, 3, 5, 4]\n",
            "Paso 6: [1, 3, 5, 4, 6, 7, 8, 9]\n",
            "Paso 7 (menor a mayor): [1, 3, 4, 5, 6, 7, 8, 9]\n",
            "Paso 8 (mayor a menor): [9, 8, 7, 6, 5, 4, 3, 1]\n"
          ]
        }
      ],
      "source": [
        "# 1. Crear lista con 3 elementos\n",
        "lista = [1, 2, 3]\n",
        "print(\"Paso 1:\", lista)\n",
        "\n",
        "# 2. Añadir un cuarto elemento\n",
        "lista.append(4)\n",
        "print(\"Paso 2:\", lista)\n",
        "\n",
        "# 3. Sumar todos los elementos\n",
        "print(\"Paso 3:\", sum(lista))\n",
        "\n",
        "# 4. Eliminar el segundo elemento (índice 1)\n",
        "lista.pop(1)\n",
        "print(\"Paso 4:\", lista)\n",
        "\n",
        "# 5. Añadir un elemento en la posición 3 (índice 2)\n",
        "lista.insert(2, 5)\n",
        "print(\"Paso 5:\", lista)\n",
        "\n",
        "# 6. Crear otra lista y concatenarla\n",
        "lista2 = [6, 7, 8, 9]\n",
        "lista = lista + lista2\n",
        "print(\"Paso 6:\", lista)\n",
        "\n",
        "# 7. Ordenar de menor a mayor\n",
        "lista.sort()\n",
        "print(\"Paso 7 (menor a mayor):\", lista)\n",
        "\n",
        "# 8. BONUS: Ordenar de mayor a menor\n",
        "lista.sort(reverse=True)\n",
        "print(\"Paso 8 (mayor a menor):\", lista)\n"
      ]
    },
    {
      "cell_type": "code",
      "execution_count": null,
      "metadata": {},
      "outputs": [],
      "source": []
    }
  ],
  "metadata": {
    "colab": {
      "provenance": []
    },
    "kernelspec": {
      "display_name": "Python 3",
      "language": "python",
      "name": "python3"
    },
    "language_info": {
      "codemirror_mode": {
        "name": "ipython",
        "version": 3
      },
      "file_extension": ".py",
      "mimetype": "text/x-python",
      "name": "python",
      "nbconvert_exporter": "python",
      "pygments_lexer": "ipython3",
      "version": "3.12.10"
    },
    "orig_nbformat": 4
  },
  "nbformat": 4,
  "nbformat_minor": 0
}
