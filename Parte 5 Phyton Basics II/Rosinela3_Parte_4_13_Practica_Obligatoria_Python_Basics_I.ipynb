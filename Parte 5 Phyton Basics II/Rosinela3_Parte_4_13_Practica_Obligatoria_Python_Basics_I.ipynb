{
  "cells": [
    {
      "cell_type": "markdown",
      "metadata": {
        "id": "BNCAebJANPxq"
      },
      "source": [
        "![TheBridge_logo_RGB_color.jpg](attachment:TheBridge_logo_RGB_color.jpg)"
      ]
    },
    {
      "cell_type": "markdown",
      "metadata": {
        "id": "A9eDZvZaNPxs"
      },
      "source": [
        "![imagen](./img/ejercicios.png)"
      ]
    },
    {
      "cell_type": "markdown",
      "metadata": {
        "id": "59zPhBxXNPxs"
      },
      "source": [
        "## PRACTICA OBLIGATORIA: PYTHON"
      ]
    },
    {
      "cell_type": "markdown",
      "metadata": {
        "id": "mv2kb1GMNPxs"
      },
      "source": [
        "* La práctica obligatoria de esta unidad consiste en dos ejercicios de programación libre a completar.   \n",
        "* Recuerda que debes subirla a tu repositorio personal antes de la sesión en vivo para que puntúe adecuadamente.  \n",
        "* Recuerda también que no es necesario que esté perfecta, sólo es necesario que se vea el esfuerzo.\n",
        "* Esta práctica se resolverá en la sesión en vivo correspondiente y la solución se publicará en el repo del curso."
      ]
    },
    {
      "cell_type": "markdown",
      "metadata": {
        "id": "Kl9JzST2NPxt"
      },
      "source": [
        "![ejercicio.png](./img/ejercicio.png)\n",
        "## PARTE I\n",
        "\n",
        "En este ejercicio debes simular un chatbot al que le haremos pedidos de pizzas.\n",
        "\n",
        "1. El chatbot tiene que saludar con un: \"Buenas tardes, bienvenido al servicio de pedido online, el precio de nuestra pizzas es de 8,95 para la familiar o de 9,90 para la mediana ¿Cuántas pizzas  familiares desea?\"\n",
        "2. El ususario tiene que introducir un número de pizzas en una variable llamada 'pizz_familiar'\n",
        "3. El chatbot debe responder: \"Estupendo, ¿cuántas pizzas medianas desea?\" y guardar el número de pizzas medianas en otra variable 'pizz_mediana'\n",
        "4. Además debe responder del chatbot: \"Estupendo, se están preparando 'pizz' pizzas familiares y 'pizz_mediana' pizzas medianas. Digame su dirección\"\n",
        "5. El ususario tiene que introducir una direccion en formato String en otra variable llamada 'direcc'\n",
        "6. El programa debe calcular el monto total\n",
        "7. Respuesta final del chatbot: \"Le mandaremos las '(número total de pizzas)' pizzas a la dirección 'direcc'. Serán <precio total a pagar en euros>. Muchas gracias por su pedido.\"\n",
        "         \n"
      ]
    },
    {
      "cell_type": "code",
      "execution_count": 4,
      "metadata": {
        "id": "qkKibyt-NPxt"
      },
      "outputs": [
        {
          "name": "stdout",
          "output_type": "stream",
          "text": [
            "Le mandaremos las 3 pizzas a la dirección madrid. Serán 28.75€. Muchas gracias por su pedido.\n"
          ]
        }
      ],
      "source": [
        "\n",
        "precio_familiar = 8.95\n",
        "precio_mediana = 9.90\n",
        "\n",
        "pizz_familiar = int(input(\n",
        "    \"Buenas tardes, bienvenido al servicio de pedido online, \"\n",
        "    \"el precio de nuestra pizzas es de 8,95 para la familiar \"\n",
        "    \"o de 9,90 para la mediana. ¿Cuántas pizzas familiares desea? \"\n",
        "))\n",
        "\n",
        "pizz_mediana = int(input(\"Estupendo, ¿cuántas pizzas medianas desea? \"))\n",
        "\n",
        "direcc = input(f\"Estupendo, se están preparando {pizz_familiar} pizzas familiares \"\n",
        "               f\"y {pizz_mediana} pizzas medianas. Dígame su dirección: \")\n",
        "\n",
        "total = (pizz_familiar * precio_familiar) + (pizz_mediana * precio_mediana)\n",
        "total_pizzas = pizz_familiar + pizz_mediana\n",
        "\n",
        "print(f\"Le mandaremos las {total_pizzas} pizzas a la dirección {direcc}. \"\n",
        "      f\"Serán {total:.2f}€. Muchas gracias por su pedido.\")"
      ]
    },
    {
      "cell_type": "markdown",
      "metadata": {
        "id": "f0oqoGDGNPxt"
      },
      "source": [
        "![ejercicio.png](./img/ejercicio.png)\n",
        "## Parte II\n",
        "\n",
        "Crea un programa que realice las siguientes acciones:\n",
        "\n",
        "1. Solicite al usuario que introduzca 3 números enteros separados por comas (por ejemplo: 1,2,3).\n",
        "2. Convierta esa entrada en una lista de números enteros.\n",
        "3. Utilizando funciones built-in, determine el número máximo, el número mínimo y la suma total de los números introducidos.\n",
        "4. Determine la verdad o falsedad de la siguiente afirmación: \"El número máximo menos el número mínimo es igual a la suma total dividida por 5\".\n",
        "5. Muestre los resultados utilizando print."
      ]
    },
    {
      "cell_type": "code",
      "execution_count": null,
      "metadata": {
        "id": "rAlpWiQ9NPxt"
      },
      "outputs": [
        {
          "name": "stdout",
          "output_type": "stream",
          "text": [
            "\n",
            "--- RESULTADOS ---\n",
            "Números introducidos: [6, 4, 9]\n",
            "Número máximo: 9\n",
            "Número mínimo: 4\n",
            "Suma total: 19\n",
            "¿El máximo menos el mínimo es igual a la suma total dividida por 5? False\n"
          ]
        }
      ],
      "source": [
        "entrada = input(\"Introduce 3 números enteros separados por comas (ej: 6,7,10): \")\n",
        "\n",
        "# Convertir la entrada en lista de números enteros\n",
        "numeros = [int(x) for x in entrada.split(\",\")]\n",
        "\n",
        "# Calcular valores usando funciones built-in\n",
        "maximo = max(numeros)\n",
        "minimo = min(numeros)\n",
        "suma_total = sum(numeros)\n",
        "\n",
        "# Verificar la afirmación\n",
        "afirmacion = (maximo - minimo) == (suma_total / 5)\n",
        "\n",
        "# Mostrar resultados\n",
        "print(\"\\n--- RESULTADOS ---\")\n",
        "print(\"Números introducidos:\", numeros)\n",
        "print(\"Número máximo:\", maximo)\n",
        "print(\"Número mínimo:\", minimo)\n",
        "print(\"Suma total:\", suma_total)\n",
        "print(\"¿El máximo menos el mínimo es igual a la suma total dividida por 5? = \", afirmacion)"
      ]
    },
    {
      "cell_type": "code",
      "execution_count": null,
      "metadata": {},
      "outputs": [],
      "source": []
    }
  ],
  "metadata": {
    "colab": {
      "provenance": []
    },
    "kernelspec": {
      "display_name": "Python 3",
      "language": "python",
      "name": "python3"
    },
    "language_info": {
      "codemirror_mode": {
        "name": "ipython",
        "version": 3
      },
      "file_extension": ".py",
      "mimetype": "text/x-python",
      "name": "python",
      "nbconvert_exporter": "python",
      "pygments_lexer": "ipython3",
      "version": "3.12.10"
    },
    "orig_nbformat": 4
  },
  "nbformat": 4,
  "nbformat_minor": 0
}
