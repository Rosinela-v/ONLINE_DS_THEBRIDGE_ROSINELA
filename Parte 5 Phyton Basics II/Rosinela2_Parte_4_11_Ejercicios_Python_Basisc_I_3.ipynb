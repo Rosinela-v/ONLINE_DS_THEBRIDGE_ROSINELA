{
  "cells": [
    {
      "cell_type": "markdown",
      "metadata": {
        "id": "TFTi_dZkAWGu"
      },
      "source": [
        "![TheBridge_logo_RGB_color.jpg](attachment:TheBridge_logo_RGB_color.jpg)"
      ]
    },
    {
      "cell_type": "markdown",
      "metadata": {
        "id": "XF-zRyz-AWGy"
      },
      "source": [
        "![imagen](./img/ejercicios.png)"
      ]
    },
    {
      "cell_type": "markdown",
      "metadata": {
        "id": "o2z19h4ZAWGy"
      },
      "source": [
        "## EJERCICIOS PYTHON BASICO 3:\n",
        "## Operaciones matemáticas, comparación y booleanas"
      ]
    },
    {
      "cell_type": "markdown",
      "metadata": {
        "id": "RlIZfd03AWGz"
      },
      "source": [
        "Completa los siguiente ejercicios, la solución completa a los mismos se publicarán en el repo del curso a lo largo del sprint. En algunos ejercicios se muestra la solución final, para que puedas comprobar que lo has hecho bien, pero lo importante es el código que generes. ¡Vaaamos, a ello...!"
      ]
    },
    {
      "cell_type": "markdown",
      "metadata": {
        "id": "RIQtUZ8gAWGz"
      },
      "source": [
        "![ejercicio.png](./img/ejercicio.png)\n",
        "\n",
        "\n",
        "## Ejercicio 1\n",
        "Tenemos las siguientes variables:\n",
        "\n",
        "```Python\n",
        "A = 4\n",
        "B = \"Text\"\n",
        "C = 4.1\n",
        "```\n",
        "\n",
        "Comprueba:\n",
        "1. Si A y B son equivalentes\n",
        "2. Si A y C NO son equivalentes\n",
        "3. Si A es mayor que C\n",
        "4. Si C es menor o igual que A\n",
        "5. Si B NO es equivalente a C"
      ]
    },
    {
      "cell_type": "code",
      "execution_count": null,
      "metadata": {
        "id": "leXXNa8zAWGz",
        "outputId": "b4016b55-5608-4c7f-aed1-d28b23a49288"
      },
      "outputs": [
        {
          "name": "stdout",
          "output_type": "stream",
          "text": [
            "False\n",
            "True\n",
            "False\n",
            "False\n",
            "True\n"
          ]
        }
      ],
      "source": []
    },
    {
      "cell_type": "markdown",
      "metadata": {
        "id": "XWd3G9WcAWG0"
      },
      "source": [
        "![ejercicio.png](./img/ejercicio.png)\n",
        "\n",
        "## Ejercicio 2\n",
        "Crea un programa donde se recojan dos inputs del usuario, y el output del programa sea si esos inputs son iguales o no"
      ]
    },
    {
      "cell_type": "code",
      "execution_count": 1,
      "metadata": {
        "id": "WsSemZICAWG0"
      },
      "outputs": [
        {
          "name": "stdout",
          "output_type": "stream",
          "text": [
            "Los valores son diferentes.\n"
          ]
        }
      ],
      "source": [
        "valor1 = input(\"Introduce el primer valor: \")\n",
        "valor2 = input(\"Introduce el segundo valor: \")\n",
        "\n",
        "if valor1 == valor2:\n",
        "    print(\"Los valores son iguales.\")\n",
        "else:\n",
        "    print(\"Los valores son diferentes.\")"
      ]
    },
    {
      "cell_type": "markdown",
      "metadata": {
        "id": "py0NZkQDAWG1"
      },
      "source": [
        "![ejercicio.png](./img/ejercicio.png)\n",
        "\n",
        "## Ejercicio 3\n",
        "Mismo programa que en 2, pero en esta ocasión tienen que ser tres inputs y dos salidas. Una de las salidas que nos indique si todos son iguales, y la otra si al menos dos inputs sí que lo son"
      ]
    },
    {
      "cell_type": "code",
      "execution_count": 6,
      "metadata": {
        "id": "B8tfPHPVAWG1",
        "outputId": "0bbf810b-519c-40bf-a40c-229336ca4f74"
      },
      "outputs": [
        {
          "name": "stdout",
          "output_type": "stream",
          "text": [
            "Los tres valores NO son iguales.\n",
            "Al menos dos valores son iguales.\n"
          ]
        }
      ],
      "source": [
        "valor1 = input(\"Introduce el primer valor: \")\n",
        "valor2 = input(\"Introduce el segundo valor: \")\n",
        "valor3 = input(\"Introduce el tercer valor: \")\n",
        "\n",
        "\n",
        "if valor1 == valor2 == valor3:\n",
        "    print(\"Los tres valores son iguales.\")\n",
        "else:\n",
        "    print(\"Los tres valores NO son iguales.\")\n",
        "\n",
        "\n",
        "if valor1 == valor2 or valor1 == valor3 or valor2 == valor3:\n",
        "    print(\"Al menos dos valores son iguales.\")\n",
        "else:\n",
        "    print(\"Ningún valor es igual a otro.\")"
      ]
    },
    {
      "cell_type": "markdown",
      "metadata": {
        "id": "bIZyUpjnAWG1"
      },
      "source": [
        "![ejercicio.png](./img/ejercicio.png)\n",
        "\n",
        "## Ejercicio 4\n",
        "Razona sin ejecutar código el output que obtendremos de las siguientes sentencias\n",
        "1. True and True and False\n",
        "2. not ((True or False) and (True or False))\n",
        "3. (False or False or False or True) and False\n",
        "4. not False and True and not True"
      ]
    },
    {
      "cell_type": "markdown",
      "metadata": {
        "id": "4frMYTi6AWG1"
      },
      "source": [
        "1-False\n",
        "\n",
        "2-False\n",
        "\n",
        "3-False\n",
        "\n",
        "4-False"
      ]
    }
  ],
  "metadata": {
    "colab": {
      "provenance": []
    },
    "kernelspec": {
      "display_name": "Python 3",
      "language": "python",
      "name": "python3"
    },
    "language_info": {
      "codemirror_mode": {
        "name": "ipython",
        "version": 3
      },
      "file_extension": ".py",
      "mimetype": "text/x-python",
      "name": "python",
      "nbconvert_exporter": "python",
      "pygments_lexer": "ipython3",
      "version": "3.12.10"
    },
    "orig_nbformat": 4
  },
  "nbformat": 4,
  "nbformat_minor": 0
}
